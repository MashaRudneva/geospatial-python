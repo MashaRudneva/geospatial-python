{
 "cells": [
  {
   "cell_type": "markdown",
   "metadata": {},
   "source": [
    "# Episode 1: Intro to Raster Data, Bad Data Values, Summary Stats"
   ]
  },
  {
   "cell_type": "code",
   "execution_count": null,
   "metadata": {},
   "outputs": [],
   "source": [
    "import rasterio\n",
    "import scipy.stats\n",
    "import numpy\n",
    "import earthpy.plot\n",
    "import matplotlib.pyplot as plt\n",
    "\n",
    "surface_model_HARV = rasterio.open(\"NEON-DS-Airborne-Remote-Sensing/HARV/DSM/HARV_dsmCrop.tif\")\n",
    "surface_model_HARV.meta\n",
    "\n",
    "surface_model_HARV.meta['width']\n",
    "\n",
    "surface_model_HARV_arr = surface_model_HARV.read(1)\n",
    "surface_model_HARV.read(1)\n",
    "\n",
    "earthpy.plot.plot_bands(\n",
    "    surface_model_HARV_arr,\n",
    "    scale=False,\n",
    "    cmap=\"viridis\",\n",
    "    title=\"Digital Surface Model Without Hillshade\",\n",
    "    figsize=(10, 6)\n",
    ")\n",
    "\n",
    "plt.style.use(\"ggplot\")\n",
    "earthpy.plot.plot_bands(\n",
    "     surface_model_HARV_arr,\n",
    "     scale=False,\n",
    "     cmap=\"viridis\",\n",
    "     title=\"Digital Surface Model Without Hillshade\",\n",
    "     figsize=(10, 6)\n",
    ")\n",
    "\n",
    "surface_model_HARV.crs\n",
    "\n",
    "earthpy.epsg['32618']\n",
    "\n",
    "scipy.stats.describe(surface_model_HARV_arr, axis=None)\n",
    "\n",
    "print(numpy.percentile(surface_model_HARV_arr, 25))\n",
    "print(numpy.percentile(surface_model_HARV_arr, 75))\n",
    "\n",
    "surface_model_HARV.meta['count']\n",
    "\n",
    "surface_model_HARV_arr_3D = surface_model_HARV.read()\n",
    "surface_model_HARV_arr_3D.shape\n",
    "\n",
    "surface_model_HARV_arr_2D = surface_model_HARV.read(1)\n",
    "surface_model_HARV_arr_2D.shape\n",
    "\n",
    "rgb_HARV = rasterio.open(\"NEON-DS-Airborne-Remote-Sensing/HARV/RGB_Imagery/HARV_RGB_Ortho.tif\", \"r\")\n",
    "rgb_HARV_arr = rgb_HARV.read()\n",
    "earthpy.plot.plot_rgb(\n",
    "    rgb_HARV_arr,\n",
    "    title=\"RGB Image, NoData Values UnMasked\",\n",
    "    figsize=(10, 6)\n",
    ")\n",
    "\n",
    "rgb_HARV_masked_arr = numpy.ma.masked_where(rgb_HARV_arr==0, rgb_HARV_arr) #1st argument is the condition, second is the array to mask\n",
    "earthpy.plot.plot_rgb(\n",
    "    rgb_HARV_masked_arr,\n",
    "    title=\"RGB Image, NoData Values Masked\",\n",
    "    figsize=(10, 6)\n",
    ")\n",
    "\n",
    "earthpy.plot.plot_rgb(\n",
    "    rgb_HARV_masked_arr.mask*-1, # mutliplying a boolean array by -1 reverses True and False values\n",
    "    title=\"Mask Array\",\n",
    "    figsize=(10, 6)\n",
    ")\n",
    "\n",
    "print(surface_model_HARV.nodata)\n",
    "changed_meta_copy = surface_model_HARV.meta.copy()\n",
    "changed_meta_copy['nodata'] = -3.4e+38\n",
    "print(changed_meta_copy)\n"
   ]
  },
  {
   "cell_type": "markdown",
   "metadata": {},
   "source": [
    "# Episode 2 Raster Reprojecting"
   ]
  },
  {
   "cell_type": "code",
   "execution_count": null,
   "metadata": {},
   "outputs": [],
   "source": [
    "import os\n",
    "os.chdir(\"../\")"
   ]
  },
  {
   "cell_type": "code",
   "execution_count": null,
   "metadata": {},
   "outputs": [],
   "source": [
    "import rasterio\n",
    "\n",
    "surface_model_HARV = rasterio.open(\"data/NEON-DS-Airborne-Remote-Sensing/HARV/DSM/HARV_dsmCrop.tif\")\n",
    "\n",
    "terrain_model_HARV_WGS84 = rasterio.open(\"data/NEON-DS-Airborne-Remote-Sensing/HARV/DTM/HARV_dtmCrop_WGS84.tif\")"
   ]
  },
  {
   "cell_type": "code",
   "execution_count": null,
   "metadata": {},
   "outputs": [],
   "source": [
    "surface_model_HARV.crs"
   ]
  },
  {
   "cell_type": "code",
   "execution_count": null,
   "metadata": {},
   "outputs": [],
   "source": [
    "terrain_model_HARV_WGS84.crs"
   ]
  },
  {
   "cell_type": "code",
   "execution_count": null,
   "metadata": {},
   "outputs": [],
   "source": [
    "import earthpy\n",
    "earthpy.epsg[\"32618\"]"
   ]
  },
  {
   "cell_type": "code",
   "execution_count": null,
   "metadata": {},
   "outputs": [],
   "source": [
    "from rasterio.warp import calculate_default_transform, reproject\n",
    "\n",
    "transform, width, height = calculate_default_transform(\n",
    "    terrain_model_HARV_WGS84.crs, surface_model_HARV.crs, terrain_model_HARV_WGS84.width, terrain_model_HARV_WGS84.height, *terrain_model_HARV_WGS84.bounds)\n",
    "\n",
    "destination_crs = surface_model_HARV.crs\n",
    "reprojected_meta = terrain_model_HARV_WGS84.meta.copy()\n",
    "reprojected_meta.update({\n",
    "        'crs': destination_crs,\n",
    "        'transform': transform,\n",
    "        'width': width,\n",
    "        'height': height\n",
    "})\n",
    "\n",
    "reprojected_path = \"data/NEON-DS-Airborne-Remote-Sensing/HARV/DTM/HARV_dtmCrop_UTM18_rasterio.tif\"\n",
    "with rasterio.open(reprojected_path, \"w\", **reprojected_meta) as reprojected_data:\n",
    "    reproject(\n",
    "        source = rasterio.band(terrain_model_HARV_WGS84, 1), \n",
    "        destination = rasterio.band(reprojected_data, 1), \n",
    "        src_crs=terrain_model_HARV_WGS84.crs, \n",
    "        dst_crs=surface_model_HARV.crs)\n",
    "\n",
    "reprojected_tif = rasterio.open(reprojected_path)\n",
    "terrain_model_HARV_arr_UTM18_rasterio = reprojected_tif.read()"
   ]
  },
  {
   "cell_type": "code",
   "execution_count": null,
   "metadata": {},
   "outputs": [],
   "source": [
    "import xarray\n",
    "import rioxarray\n",
    "\n",
    "surface_model_HARV_xarr = xarray.open_rasterio(\"data/NEON-DS-Airborne-Remote-Sensing/HARV/DSM/HARV_dsmCrop.tif\")\n",
    "terrain_model_HARV_xarr = xarray.open_rasterio(\"data/NEON-DS-Airborne-Remote-Sensing/HARV/DTM/HARV_dtmCrop_WGS84.tif\")\n",
    "\n",
    "surface_model_HARV_xarr\n",
    "\n",
    "surface_model_HARV_xarr.rio.crs\n",
    "\n",
    "terrain_model_HARV_xarr_UTM18 = terrain_model_HARV_xarr.rio.reproject(dst_crs=surface_model_HARV_xarr.rio.crs)\n",
    "\n",
    "terrain_model_HARV_xarr_UTM18\n",
    "\n",
    "surface_model_HARV_xarr.compute()\n",
    "\n",
    "(terrain_model_HARV_xarr_UTM18 == terrain_model_HARV_arr_UTM18_rasterio).all()\n",
    "\n",
    "reprojected_path = \"data/NEON-DS-Airborne-Remote-Sensing/HARV/DTM/HARV_dtmCrop_UTM18_rioxarray.tif\"\n",
    "terrain_model_HARV_xarr_UTM18.rio.to_raster(reprojected_path)\n",
    "\n",
    "# view crs for DTM\n",
    "print(terrain_model_HARV_xarr_UTM18.rio.crs)\n",
    "\n",
    "# view crs for DSM\n",
    "print(surface_model_HARV_xarr.rio.crs)\n",
    "\n",
    "# view noddata value for DTM\n",
    "print(terrain_model_HARV_xarr_UTM18.rio.nodata)\n",
    "\n",
    "# view nodata value for DSM\n",
    "print(surface_model_HARV_xarr.rio.nodata)\n",
    "\n",
    "# view shape for DTM\n",
    "print(terrain_model_HARV_xarr_UTM18.shape)\n",
    "\n",
    "# view shape for DSM\n",
    "print(surface_model_HARV_xarr.shape)\n",
    "\n",
    "import matplotlib.pyplot as plt\n",
    "terrain_model_HARV_xarr_UTM18.plot(cmap=\"viridis\")\n",
    "plt.title(\"Harvard Forest Digital Terrain Model\")\n",
    "plt.savefig(\"fig/02-bad-DTM-plot-01.png\")"
   ]
  },
  {
   "cell_type": "code",
   "execution_count": null,
   "metadata": {},
   "outputs": [],
   "source": [
    "surface_model_HARV_xarr.rio.crs"
   ]
  },
  {
   "cell_type": "code",
   "execution_count": null,
   "metadata": {},
   "outputs": [],
   "source": [
    "terrain_model_HARV_xarr_UTM18.shape"
   ]
  },
  {
   "cell_type": "code",
   "execution_count": null,
   "metadata": {},
   "outputs": [],
   "source": [
    "terrain_model_HARV_xarr.shape"
   ]
  },
  {
   "cell_type": "code",
   "execution_count": null,
   "metadata": {},
   "outputs": [],
   "source": [
    "import matplotlib.pyplot as plt\n",
    "terrain_model_HARV_xarr_UTM18_valid = terrain_model_HARV_xarr_UTM18.where(\n",
    "    terrain_model_HARV_xarr_UTM18 != terrain_model_HARV_xarr_UTM18.rio.nodata)\n",
    "terrain_model_HARV_xarr_UTM18_valid.plot(cmap=\"viridis\")\n",
    "plt.title(\"Harvard Forest Digital Terrain Model\")\n",
    "    "
   ]
  },
  {
   "cell_type": "code",
   "execution_count": null,
   "metadata": {},
   "outputs": [],
   "source": [
    "import os\n",
    "os.chdir(\"..\")\n",
    "import xarray\n",
    "import rioxarray\n",
    "import matplotlib.pyplot as plt\n",
    "terrain_model_HARV_SJER = xarray.open_rasterio(\"data/NEON-DS-Airborne-Remote-Sensing/SJER/DTM/SJER_dtmCrop.tif\")\n",
    "surface_model_HARV_SJER = xarray.open_rasterio(\"data/NEON-DS-Airborne-Remote-Sensing/SJER/DSM/SJER_dsmCrop_WGS84.tif\")\n",
    "reprojected_surface_model = surface_model_HARV_SJER.rio.reproject(dst_crs=terrain_model_HARV_SJER.rio.crs)\n",
    "reprojected_surface_model.rio.to_raster(\"data/NEON-DS-Airborne-Remote-Sensing/SJER/DSM/SJER_dsmCrop_WGS84.tif\")\n",
    "reprojected_surface_model.where(reprojected_surface_model != reprojected_surface_model.rio.nodata, drop=True).plot()\n",
    "plt.title(\"SJER Reprojected Surface Model\")\n",
    "# plt.savefig(\"fig/02-SJER-DSM-03.png\")"
   ]
  },
  {
   "cell_type": "code",
   "execution_count": null,
   "metadata": {},
   "outputs": [],
   "source": [
    "terrain_model_HARV_SJER.where(terrain_model_HARV_SJER != terrain_model_HARV_SJER.rio.nodata).plot()\n",
    "plt.title(\"SJER Terrain Model\")\n",
    "plt.savefig(\"fig/02-SJER-DTM-04.png\")"
   ]
  },
  {
   "cell_type": "code",
   "execution_count": null,
   "metadata": {},
   "outputs": [],
   "source": [
    "surface_model_HARV_SJER.shape"
   ]
  },
  {
   "cell_type": "code",
   "execution_count": null,
   "metadata": {},
   "outputs": [],
   "source": [
    "rioxarray.__version__"
   ]
  },
  {
   "cell_type": "code",
   "execution_count": null,
   "metadata": {},
   "outputs": [],
   "source": [
    "import os\n",
    "os.chdir(\"..\")\n",
    "import xarray\n",
    "import rioxarray\n",
    "\n",
    "surface = xarray.open_rasterio(\"data/NEON-DS-Airborne-Remote-Sensing/HARV/DSM/HARV_dsmCrop.tif\")\n",
    "terrain = xarray.open_rasterio(\"data/NEON-DS-Airborne-Remote-Sensing/HARV/DTM/HARV_dtmCrop.tif\")\n",
    "\n",
    "terrain.where(terrain != terrain.rio.nodata).plot()\n",
    "\n",
    "surface.plot()\n",
    "\n",
    "print(terrain.shape)\n",
    "print(surface.shape)\n",
    "\n",
    "from rasterio.crs import CRS\n",
    "\n",
    "terrain_WGS84 = terrain.rio.reproject(dst_crs=CRS.from_epsg(4326))\n",
    "print(terrain_WGS84.shape)\n",
    "terrain_WGS84.plot()\n",
    "\n",
    "terrain_WGS84_to_UTM = terrain_WGS84.rio.reproject(dst_crs=terrain.rio.crs)\n",
    "\n",
    "terrain_WGS84_to_UTM.where(terrain_WGS84_to_UTM!=terrain_WGS84_to_UTM.rio.nodata).plot()\n",
    "\n",
    "(terrain_WGS84_to_UTM.sel(band=1)==terrain_WGS84_to_UTM.rio.nodata).plot() # a nodata border is created upon reprojecting back to UTM. this behavior makes it difficult to to do raster math with xarrays if you have to reproject any inputs"
   ]
  },
  {
   "cell_type": "code",
   "execution_count": null,
   "metadata": {},
   "outputs": [],
   "source": [
    "mask"
   ]
  },
  {
   "cell_type": "code",
   "execution_count": null,
   "metadata": {},
   "outputs": [],
   "source": [
    "import numpy as np\n",
    "mask = np.all(terrain_WGS84_to_UTM.sel(band=1)==terrain_WGS84_to_UTM.rio.nodata, axis=1)\n",
    "mask"
   ]
  },
  {
   "cell_type": "code",
   "execution_count": null,
   "metadata": {},
   "outputs": [],
   "source": [
    "terrain_WGS84_to_UTM.shape"
   ]
  },
  {
   "cell_type": "code",
   "execution_count": null,
   "metadata": {},
   "outputs": [],
   "source": [
    "terrain_WGS84.rio.to_raster(\"data/NEON-DS-Airborne-Remote-Sensing/HARV/DTM/HARV_dtmCrop_WGS84.tif\")"
   ]
  },
  {
   "cell_type": "code",
   "execution_count": null,
   "metadata": {},
   "outputs": [],
   "source": [
    "terrain_WGS84_reread = xarray.open_rasterio(\"data/NEON-DS-Airborne-Remote-Sensing/HARV/DTM/HARV_dtmCrop_WGS84.tif\")"
   ]
  },
  {
   "cell_type": "code",
   "execution_count": null,
   "metadata": {},
   "outputs": [],
   "source": [
    "terrain_WGS84_reread."
   ]
  },
  {
   "cell_type": "code",
   "execution_count": null,
   "metadata": {},
   "outputs": [],
   "source": [
    "surface_model_HARV_xarr\n",
    "\n",
    "surface_model_HARV_xarr.rio.crs\n",
    "\n",
    "terrain_model_HARV_xarr_UTM18 = terrain_model_HARV_xarr.rio.reproject(dst_crs=surface_model_HARV_xarr.rio.crs)"
   ]
  },
  {
   "cell_type": "code",
   "execution_count": null,
   "metadata": {},
   "outputs": [],
   "source": []
  },
  {
   "cell_type": "code",
   "execution_count": null,
   "metadata": {},
   "outputs": [],
   "source": []
  },
  {
   "cell_type": "code",
   "execution_count": null,
   "metadata": {},
   "outputs": [],
   "source": []
  }
 ],
 "metadata": {
  "kernelspec": {
   "display_name": "Python [conda env:root] *",
   "language": "python",
   "name": "conda-root-py"
  },
  "language_info": {
   "codemirror_mode": {
    "name": "ipython",
    "version": 3
   },
   "file_extension": ".py",
   "mimetype": "text/x-python",
   "name": "python",
   "nbconvert_exporter": "python",
   "pygments_lexer": "ipython3",
   "version": "3.7.6"
  }
 },
 "nbformat": 4,
 "nbformat_minor": 4
}
